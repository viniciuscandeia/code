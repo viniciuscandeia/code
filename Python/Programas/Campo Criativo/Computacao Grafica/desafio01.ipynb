{
 "cells": [
  {
   "cell_type": "markdown",
   "metadata": {},
   "source": [
    "Desafio 01: RGB\n",
    "\n",
    "1) Adicione novas regras.\n",
    "2) Pense no sistema RGB, pesquise e verifique como deixar a imagem em tons de cinza."
   ]
  },
  {
   "cell_type": "markdown",
   "metadata": {},
   "source": [
    "Bibliotecas usadas:"
   ]
  },
  {
   "cell_type": "code",
   "execution_count": null,
   "metadata": {},
   "outputs": [],
   "source": [
    "from PIL import Image, ImageEnhance\n",
    "import requests\n",
    "from io import BytesIO"
   ]
  },
  {
   "cell_type": "markdown",
   "metadata": {},
   "source": [
    "Codigos para carregar a imagem e descobrir as informacoes sobre ela."
   ]
  },
  {
   "cell_type": "code",
   "execution_count": null,
   "metadata": {},
   "outputs": [],
   "source": [
    "\n",
    "# Carregando e abrindo a imagem\n",
    "url_image = 'http://imagens.usp.br/wp-content/uploads/13072012frutasfotoMarcosSantos008.jpg'\n",
    "response = requests.get(url_image)\n",
    "img = Image.open(BytesIO(response.content))\n",
    "\n",
    "# Exibindo a imagem original\n",
    "img.show()\n",
    "\n",
    "# informacoes da imagem\n",
    "largura = img.size[0]\n",
    "altura = img.size[1]\n",
    "\n",
    "# Carregando a matriz que contem todos os pixels da Imagem\n",
    "matrix_pixels = img.load()"
   ]
  },
  {
   "cell_type": "markdown",
   "metadata": {},
   "source": [
    "Deixando a imagem em tons de cinzas e ja mostrando o resultado ao final:"
   ]
  },
  {
   "cell_type": "code",
   "execution_count": null,
   "metadata": {},
   "outputs": [],
   "source": [
    "\n",
    "# Deixando a imagem cinza\n",
    "for i in range(largura):\n",
    "    for j in range(altura):\n",
    "        pixel = matrix_pixels[i, j]  # Pegando cada pixel da imagem\n",
    "\n",
    "        R = pixel[0]\n",
    "        G = pixel[1]\n",
    "        B = pixel[2]\n",
    "\n",
    "        # Regra da mudanca: Green e Blue terao os mesmos valores que Red\n",
    "        R = R\n",
    "        G = R\n",
    "        B = R\n",
    "\n",
    "        # Criando um novo pixel com as cores ajustadas\n",
    "        new_pixel = (R, G, B)\n",
    "\n",
    "        # Trocando o pixel antigp pelo novo\n",
    "        matrix_pixels[i, j] = new_pixel\n",
    "\n",
    "# Exibindo a imagem modificada\n",
    "img.show()\n",
    "\n",
    "# Fechando a imagem\n",
    "img.close()"
   ]
  },
  {
   "cell_type": "markdown",
   "metadata": {},
   "source": [
    "Modificando o clareamento da imagem: focado em clarear apenas a maca."
   ]
  },
  {
   "cell_type": "code",
   "execution_count": null,
   "metadata": {},
   "outputs": [],
   "source": [
    "\n",
    "# Abrindo a imagem\n",
    "img = Image.open(BytesIO(response.content))\n",
    "\n",
    "# informacoes da imagem\n",
    "largura = img.size[0]\n",
    "altura = img.size[1]\n",
    "\n",
    "# Carregando a matriz que contem todos os pixels da Imagem\n",
    "matrix_pixels = img.load()\n",
    "\n",
    "for i in range(largura):\n",
    "    for j in range(altura):\n",
    "        pixel = matrix_pixels[i, j]  # Pegando cada pixel da imagem\n",
    "\n",
    "        R = pixel[0]\n",
    "        G = pixel[1]\n",
    "        B = pixel[2]\n",
    "\n",
    "        # Regra de clareamento: focando em clarear apenas a maca\n",
    "        if R > 80 and G < 60 and B < 60:\n",
    "            R = R + 15\n",
    "            G = G + 5\n",
    "            B = B\n",
    "\n",
    "        new_pixel = (R, G, B)\n",
    "        matrix_pixels[i, j] = new_pixel\n",
    "\n",
    "# Exibindo a imagem modificada\n",
    "img.show()\n",
    "\n",
    "# Fechando a imagem\n",
    "img.close()"
   ]
  },
  {
   "cell_type": "markdown",
   "metadata": {},
   "source": [
    "Experimento outras funcoes, mudando o contraste, brilho e ate a saturacao."
   ]
  },
  {
   "cell_type": "code",
   "execution_count": null,
   "metadata": {},
   "outputs": [],
   "source": [
    "\n",
    "# Abrindo a imagem\n",
    "img = Image.open(BytesIO(response.content))\n",
    "\n",
    "# Mudando o contraste\n",
    "contraste = ImageEnhance.Contrast(img)\n",
    "imgContraste = contraste.enhance(1.8)\n",
    "\n",
    "# Mudando o brilho\n",
    "brilho = ImageEnhance.Brightness(img)\n",
    "imgBrilho = brilho.enhance(1.5)\n",
    "\n",
    "# Mudando o saturacao\n",
    "saturacao = ImageEnhance.Color(img)\n",
    "imgCor = saturacao.enhance(0.2)\n",
    "\n",
    "# Exibindo as imagens modificadas\n",
    "imgContraste.show()\n",
    "imgBrilho.show()\n",
    "imgCor.show()"
   ]
  }
 ],
 "metadata": {
  "kernelspec": {
   "display_name": "Python 3.10.6 64-bit (windows store)",
   "language": "python",
   "name": "python3"
  },
  "language_info": {
   "name": "python",
   "version": "3.10.6"
  },
  "orig_nbformat": 4,
  "vscode": {
   "interpreter": {
    "hash": "af905c2714519b528cc2ec495f6f5f138a7959fe7eb5c81a7c77ca41f612dc2e"
   }
  }
 },
 "nbformat": 4,
 "nbformat_minor": 2
}
